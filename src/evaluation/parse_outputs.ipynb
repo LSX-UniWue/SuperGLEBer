{
 "cells": [
  {
   "cell_type": "code",
   "execution_count": 1,
   "metadata": {},
   "outputs": [],
   "source": [
    "import json\n",
    "from pathlib import Path\n",
    "\n",
    "import pandas as pd\n",
    "import yaml\n",
    "from loguru import logger"
   ]
  },
  {
   "cell_type": "code",
   "execution_count": null,
   "metadata": {},
   "outputs": [],
   "source": [
    "df = pd.DataFrame(columns=[\"model\"])\n",
    "\n",
    "for day in Path(\"/Users/janpf/projects/Superkleber/outputs\").iterdir():\n",
    "    for run in day.iterdir():\n",
    "        if day.name == \"slurm_logs\":\n",
    "            continue\n",
    "        logger.info(f\"Processing {run}\")\n",
    "        if (run / \"all_results.json\").exists():\n",
    "            with open(run / \"all_results.json\") as f:\n",
    "                eval_results = json.load(f)\n",
    "                logger.debug(eval_results)\n",
    "\n",
    "            if (\n",
    "                eval_results[\"train_samples\"] == 10\n",
    "                or eval_results[\"eval_samples\"] == 10\n",
    "                or eval_results[\"pred_samples\"] == 10\n",
    "            ):\n",
    "                logger.info(\"Skipping debug run\")\n",
    "                continue\n",
    "\n",
    "            with open(run / \"hydra_conf/config.yaml\") as f:\n",
    "                cfg = yaml.load(f, Loader=yaml.FullLoader)\n",
    "            columns = [\"model\", \"task\", \"seed\", \"source\"]\n",
    "            if \"predict_overall_f1\" in eval_results:\n",
    "                columns.append(\"predict_overall_f1\")\n",
    "            if \"predict_overall_accuracy\" in eval_results:\n",
    "                columns.append(\"predict_overall_accuracy\")\n",
    "            if \"eval_overall_f1\" in eval_results:\n",
    "                columns.append(\"eval_overall_f1\")\n",
    "            if \"eval_accuracy\" in eval_results:\n",
    "                columns.append(\"eval_accuracy\")\n",
    "\n",
    "            if \"predict_loss\" in eval_results:\n",
    "                columns.append(\"predict_loss\")\n",
    "            if \"eval_loss\" in eval_results:\n",
    "                columns.append(\"eval_loss\")\n",
    "\n",
    "            print(columns)\n",
    "\n",
    "            df = pd.concat(\n",
    "                [\n",
    "                    df,\n",
    "                    pd.DataFrame(\n",
    "                        data=[\n",
    "                            [\n",
    "                                cfg[\"model\"][\"model_name\"],\n",
    "                                cfg[\"task\"][\"task_name\"],\n",
    "                                cfg[\"seed\"],\n",
    "                                f\"{day.name}/{run.name}\",\n",
    "                                *[eval_results[c] for c in columns if \"_\" in c],\n",
    "                            ]\n",
    "                        ],\n",
    "                        columns=columns,\n",
    "                    ),\n",
    "                ]\n",
    "            )\n",
    "            del eval_results\n",
    "            del cfg\n",
    "\n",
    "df.sort_values(by=[\"task\", \"model\", \"seed\"], inplace=True)\n",
    "\n",
    "df"
   ]
  },
  {
   "cell_type": "code",
   "execution_count": null,
   "metadata": {},
   "outputs": [],
   "source": []
  }
 ],
 "metadata": {
  "kernelspec": {
   "display_name": "venv",
   "language": "python",
   "name": "python3"
  },
  "language_info": {
   "codemirror_mode": {
    "name": "ipython",
    "version": 3
   },
   "file_extension": ".py",
   "mimetype": "text/x-python",
   "name": "python",
   "nbconvert_exporter": "python",
   "pygments_lexer": "ipython3",
   "version": "3.10.13"
  }
 },
 "nbformat": 4,
 "nbformat_minor": 2
}
